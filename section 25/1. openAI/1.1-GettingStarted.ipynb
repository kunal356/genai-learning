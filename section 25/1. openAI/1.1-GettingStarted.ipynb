{
 "cells": [
  {
   "cell_type": "code",
   "execution_count": 2,
   "metadata": {},
   "outputs": [
    {
     "data": {
      "text/plain": [
       "True"
      ]
     },
     "execution_count": 2,
     "metadata": {},
     "output_type": "execute_result"
    }
   ],
   "source": [
    "import os\n",
    "from dotenv import load_dotenv\n",
    "load_dotenv()"
   ]
  },
  {
   "cell_type": "code",
   "execution_count": 3,
   "metadata": {},
   "outputs": [],
   "source": [
    "os.environ['OPENAI_API_KEY'] = os.getenv('OPENAI_API_KEY')\n",
    "os.environ['LANGCHAIN_API_KEY'] = os.getenv('LANGCHAIN_API_KEY')\n",
    "os.environ['LANGCHAIN_TRACING_V2'] = \"true\"\n",
    "os.environ['LANGCHAIN_PROJECT'] = os.getenv('LANGCHAIN_PROJECT')"
   ]
  },
  {
   "cell_type": "code",
   "execution_count": 4,
   "metadata": {},
   "outputs": [
    {
     "name": "stdout",
     "output_type": "stream",
     "text": [
      "client=<openai.resources.chat.completions.Completions object at 0x000001ACA6C0FB30> async_client=<openai.resources.chat.completions.AsyncCompletions object at 0x000001ACA6C39010> model_name='gpt-4o' openai_api_key=SecretStr('**********') openai_proxy=''\n"
     ]
    }
   ],
   "source": [
    "from langchain_openai import ChatOpenAI\n",
    "llm = ChatOpenAI(model=\"gpt-4o\")\n",
    "print(llm)"
   ]
  },
  {
   "cell_type": "code",
   "execution_count": 5,
   "metadata": {},
   "outputs": [
    {
     "name": "stdout",
     "output_type": "stream",
     "text": [
      "content='Generative AI refers to a category of artificial intelligence that is designed to create new content. This can include generating text, images, music, and other types of data. Unlike traditional AI systems that are primarily focused on analysis and recognition tasks, generative AI models are trained to produce new data that can resemble the input data they were trained on.\\n\\n### Key Components and Examples\\n\\n1. **Generative Models:**\\n   - **Generative Adversarial Networks (GANs):** These involve two neural networks, a generator and a discriminator, that work against each other to create realistic data.\\n   - **Variational Autoencoders (VAEs):** These models learn to encode input data into a latent space and then decode it back into the original format, allowing for the generation of new, similar data.\\n   - **Transformers:** Models like GPT-3 (Generative Pre-trained Transformer 3) which are used primarily for generating human-like text.\\n\\n2. **Applications:**\\n   - **Text Generation:** Creating articles, stories, or dialogue that mimic human writing. GPT-3 by OpenAI is an example.\\n   - **Image Generation:** Creating realistic images from scratch. GANs are often used in this domain.\\n   - **Music Composition:** Generating new music tracks in various styles.\\n   - **Game Design:** Creating new levels, characters, or even entire game worlds.\\n\\n3. **Use Cases:**\\n   - **Creative Industries:** Assisting artists, writers, and musicians in generating new ideas.\\n   - **Marketing:** Crafting personalized content for advertisements and social media.\\n   - **Healthcare:** Designing new molecules for drug discovery.\\n   - **Gaming:** Creating dynamic and adaptive game environments.\\n\\n4. **Challenges:**\\n   - **Quality Control:** Ensuring the generated output is of high quality and relevance.\\n   - **Ethical Concerns:** Addressing issues like data privacy, plagiarism, and potential misuse.\\n   - **Bias:** Mitigating and managing biases that could be present in the training data and, consequently, in the generated output.\\n\\nGenerative AI is a rapidly evolving field with significant implications across various industries. It holds the promise of automating creative tasks and augmenting human capabilities, but it also raises important ethical and practical questions that need to be addressed.' response_metadata={'token_usage': {'completion_tokens': 464, 'prompt_tokens': 12, 'total_tokens': 476}, 'model_name': 'gpt-4o-2024-05-13', 'system_fingerprint': 'fp_3aa7262c27', 'finish_reason': 'stop', 'logprobs': None} id='run-b0816fb1-d508-4c61-834c-37b20b763d71-0' usage_metadata={'input_tokens': 12, 'output_tokens': 464, 'total_tokens': 476}\n"
     ]
    }
   ],
   "source": [
    "result = llm.invoke(\"What is generative AI\")\n",
    "print(result)"
   ]
  },
  {
   "cell_type": "code",
   "execution_count": 10,
   "metadata": {},
   "outputs": [
    {
     "data": {
      "text/plain": [
       "langchain_core.messages.ai.AIMessage"
      ]
     },
     "execution_count": 10,
     "metadata": {},
     "output_type": "execute_result"
    }
   ],
   "source": [
    "type(result)"
   ]
  },
  {
   "cell_type": "code",
   "execution_count": 11,
   "metadata": {},
   "outputs": [
    {
     "data": {
      "text/plain": [
       "'Generative AI refers to a category of artificial intelligence systems designed to create new content, such as text, images, music, or even code, by learning from existing data. Unlike traditional AI systems that are typically built for specific tasks like classification or prediction, generative AI models can generate novel outputs that resemble the data they were trained on.\\n\\n### Key Components and Technologies\\n\\n1. **Machine Learning Models:** Generative AI usually relies on advanced machine learning models, particularly neural networks. Some of the most common architectures include:\\n   - **Generative Adversarial Networks (GANs):** A framework where two neural networks (a generator and a discriminator) are trained simultaneously. The generator creates new data instances, while the discriminator evaluates them.\\n   - **Variational Autoencoders (VAEs):** A type of neural network that learns to encode data into a latent space and then decode it back, allowing for the generation of new data.\\n   - **Transformer Models:** These models, such as GPT (Generative Pre-trained Transformer) by OpenAI, are particularly effective for tasks involving natural language processing.\\n\\n2. **Training Data:** Generative AI models require large datasets to learn the patterns and structures of the type of content they are designed to generate. For example, a text-generating AI like GPT-3 is trained on vast amounts of text data from books, articles, and websites.\\n\\n3. **Applications:** Generative AI has a wide range of applications across different domains, including but not limited to:\\n   - **Text Generation:** Writing essays, articles, and even code.\\n   - **Image Generation:** Creating realistic images, art, and design elements.\\n   - **Music Composition:** Generating new musical pieces.\\n   - **Game Development:** Designing levels, characters, and storylines.\\n   - **Drug Discovery:** Generating molecular structures for potential new drugs.\\n\\n### Challenges and Ethical Considerations\\n\\n1. **Quality Control:** Ensuring that the generated content is of high quality and free from errors or biases.\\n2. **Ethical Concerns:** Addressing issues related to plagiarism, misinformation, and the creation of harmful or inappropriate content.\\n3. **Intellectual Property:** Navigating the legal landscape concerning the ownership of AI-generated content.\\n\\n### Future Directions\\n\\nGenerative AI is a rapidly evolving field, with ongoing research aimed at improving model efficiency, reducing biases, and expanding the range of applications. Innovations in this area have the potential to significantly impact various industries, making it a focal point for both academic research and commercial development.\\n\\nOverall, generative AI represents a significant advancement in the capabilities of artificial intelligence, enabling machines to create and innovate in ways that were previously thought to be the exclusive domain of humans.'"
      ]
     },
     "execution_count": 11,
     "metadata": {},
     "output_type": "execute_result"
    }
   ],
   "source": [
    "result.content"
   ]
  },
  {
   "cell_type": "code",
   "execution_count": 6,
   "metadata": {},
   "outputs": [
    {
     "data": {
      "text/plain": [
       "ChatPromptTemplate(input_variables=['input'], messages=[SystemMessagePromptTemplate(prompt=PromptTemplate(input_variables=[], template='You are an expert AI Engineer. Provide me answers based on the questions')), HumanMessagePromptTemplate(prompt=PromptTemplate(input_variables=['input'], template='{input}'))])"
      ]
     },
     "execution_count": 6,
     "metadata": {},
     "output_type": "execute_result"
    }
   ],
   "source": [
    "from langchain_core.prompts import ChatPromptTemplate\n",
    "\n",
    "prompt = ChatPromptTemplate.from_messages(\n",
    "    [\n",
    "        (\"system\", \"You are an expert AI Engineer. Provide me answers based on the questions\"),\n",
    "        (\"user\", \"{input}\")\n",
    "    ]\n",
    ")\n",
    "prompt"
   ]
  },
  {
   "cell_type": "code",
   "execution_count": 7,
   "metadata": {},
   "outputs": [
    {
     "name": "stdout",
     "output_type": "stream",
     "text": [
      "content='Certainly! Langsmith is a suite of developer tools designed to enhance the performance, reliability, and observability of applications built using large language models (LLMs) and AI chains. Here are some key features and components of Langsmith:\\n\\n### Key Features\\n\\n1. **Application Tracing**:\\n   - Provides detailed traceability of applications, offering insights into the behavior and performance of LLM-powered applications.\\n   - Helps in identifying bottlenecks and optimizing performance.\\n\\n2. **Dataset Management**:\\n   - Facilitates the creation and management of datasets for testing AI applications.\\n   - Supports the evaluation of application performance on these datasets to ensure robustness and reliability.\\n\\n3. **Evaluation Framework**:\\n   - Offers tools to evaluate the performance of LLM applications systematically.\\n   - Includes mechanisms to test and verify the outputs to ensure they meet the desired standards.\\n\\n### Benefits\\n\\n- **Improved Performance**:\\n  - By providing detailed insights and traceability, Langsmith helps developers optimize their applications for better performance.\\n  \\n- **Enhanced Reliability**:\\n  - The ability to manage datasets and systematically evaluate application performance leads to more reliable and robust applications.\\n  \\n- **Better Observability**:\\n  - Detailed tracing and logging features allow developers to have a clear understanding of application behavior, making debugging and maintenance easier.\\n\\n### Use Cases\\n\\n- **Developers and Engineers**:\\n  - Useful for those building complex AI chains and applications that rely on LLMs, as it provides tools to optimize and maintain these applications.\\n  \\n- **Data Scientists**:\\n  - Can leverage the dataset management and evaluation features to ensure their models and applications perform well on various datasets.\\n\\n- **AI Researchers**:\\n  - Offers a framework to test hypotheses and evaluate the performance of new models and algorithms systematically.\\n\\nLangsmith is particularly beneficial in scenarios where maintaining the performance and reliability of LLM applications is critical. By offering a comprehensive suite of tools, it helps developers and engineers build more efficient, reliable, and observable AI applications.' response_metadata={'token_usage': {'completion_tokens': 400, 'prompt_tokens': 33, 'total_tokens': 433}, 'model_name': 'gpt-4o-2024-05-13', 'system_fingerprint': 'fp_3aa7262c27', 'finish_reason': 'stop', 'logprobs': None} id='run-86313beb-5ecd-4e2d-8bdc-7fafed41aecd-0' usage_metadata={'input_tokens': 33, 'output_tokens': 400, 'total_tokens': 433}\n"
     ]
    }
   ],
   "source": [
    "chain=prompt|llm\n",
    "\n",
    "response = chain.invoke({\"input\": \"Can you tell me about Langsmith?\"})\n",
    "print(response)"
   ]
  },
  {
   "cell_type": "code",
   "execution_count": 8,
   "metadata": {},
   "outputs": [
    {
     "name": "stdout",
     "output_type": "stream",
     "text": [
      "Langsmith is a suite of tools designed to enhance the development, testing, debugging, and monitoring of applications built using the LangChain framework. LangChain is a popular framework for creating applications that integrate large language models (LLMs) and generative AI. Langsmith specifically aims to streamline the process of building robust applications by providing features that support various stages of the development lifecycle. \n",
      "\n",
      "Here are some key features and functionalities of Langsmith:\n",
      "\n",
      "1. **Development**:\n",
      "   - **Tooling**: Langsmith provides tools that assist developers in building applications more efficiently. This includes utilities for managing prompts, chaining different LLMs, and integrating external data sources.\n",
      "   - **Templates**: Predefined templates and components that can be easily customized to fit specific application needs.\n",
      "\n",
      "2. **Testing**:\n",
      "   - **Automated Testing**: Tools for creating and running automated tests to ensure the application behaves as expected.\n",
      "   - **Simulation**: Facilities to simulate different scenarios and edge cases to test the robustness of the application.\n",
      "\n",
      "3. **Debugging**:\n",
      "   - **Error Tracking**: Tools to identify, track, and resolve errors in the application.\n",
      "   - **Logging and Monitoring**: Comprehensive logging features that help in diagnosing issues by providing detailed insights into application performance and behavior.\n",
      "\n",
      "4. **Monitoring**:\n",
      "   - **Performance Metrics**: Real-time monitoring of key performance indicators (KPIs) to ensure the application is running optimally.\n",
      "   - **Alerts and Notifications**: Configurable alerts for significant events or performance deviations.\n",
      "\n",
      "5. **Integration**:\n",
      "   - **Compatibility with LangChain**: Seamless integration with the LangChain framework, making it easier to adopt Langsmith in existing projects.\n",
      "   - **Extensibility**: Support for extending functionality through plugins or custom modules.\n",
      "\n",
      "6. **User Interface**:\n",
      "   - **Dashboard**: A centralized dashboard that provides an overview of the application's health, performance, and any issues that need attention.\n",
      "   - **User-friendly Interface**: Intuitive interfaces that make it easier for developers to navigate and utilize the tools effectively.\n",
      "\n",
      "Langsmith is particularly valuable for developers who are leveraging LangChain to build applications that rely heavily on natural language processing and generative AI, providing them with the necessary tools to ensure their applications are reliable, efficient, and maintainable.\n"
     ]
    }
   ],
   "source": [
    "from langchain_core.output_parsers import StrOutputParser\n",
    "output_parser = StrOutputParser()\n",
    "chain = prompt | llm | output_parser\n",
    "\n",
    "response = chain.invoke({\"input\": \"Can you tell me about Langsmith?\"})\n",
    "print(response)"
   ]
  },
  {
   "cell_type": "code",
   "execution_count": null,
   "metadata": {},
   "outputs": [],
   "source": []
  },
  {
   "cell_type": "code",
   "execution_count": null,
   "metadata": {},
   "outputs": [],
   "source": []
  }
 ],
 "metadata": {
  "kernelspec": {
   "display_name": "Python 3",
   "language": "python",
   "name": "python3"
  },
  "language_info": {
   "codemirror_mode": {
    "name": "ipython",
    "version": 3
   },
   "file_extension": ".py",
   "mimetype": "text/x-python",
   "name": "python",
   "nbconvert_exporter": "python",
   "pygments_lexer": "ipython3",
   "version": "3.12.4"
  }
 },
 "nbformat": 4,
 "nbformat_minor": 2
}
